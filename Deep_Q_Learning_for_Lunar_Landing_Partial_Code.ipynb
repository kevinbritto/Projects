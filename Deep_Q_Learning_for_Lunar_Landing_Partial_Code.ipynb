{
  "cells": [
    {
      "cell_type": "markdown",
      "metadata": {
        "id": "view-in-github",
        "colab_type": "text"
      },
      "source": [
        "<a href=\"https://colab.research.google.com/github/kevinbritto/Projects/blob/main/Deep_Q_Learning_for_Lunar_Landing_Partial_Code.ipynb\" target=\"_parent\"><img src=\"https://colab.research.google.com/assets/colab-badge.svg\" alt=\"Open In Colab\"/></a>"
      ]
    },
    {
      "cell_type": "markdown",
      "metadata": {
        "id": "LbZcI9ZXHl3a"
      },
      "source": [
        "# Deep Q-Learning for Lunar Landing"
      ]
    },
    {
      "cell_type": "markdown",
      "metadata": {
        "id": "E8yPRjteXgPb"
      },
      "source": [
        "## Part 0 - Installing the required packages and importing the libraries"
      ]
    },
    {
      "cell_type": "markdown",
      "metadata": {
        "id": "slEm5teGWjWU"
      },
      "source": [
        "### Installing Gymnasium"
      ]
    },
    {
      "cell_type": "code",
      "execution_count": 1,
      "metadata": {
        "id": "dbnq3XpoKa_7",
        "colab": {
          "base_uri": "https://localhost:8080/"
        },
        "outputId": "11231f7f-cd8e-4110-f069-8b359071f5f8"
      },
      "outputs": [
        {
          "output_type": "stream",
          "name": "stdout",
          "text": [
            "Requirement already satisfied: gymnasium in /usr/local/lib/python3.10/dist-packages (0.29.1)\n",
            "Requirement already satisfied: numpy>=1.21.0 in /usr/local/lib/python3.10/dist-packages (from gymnasium) (1.25.2)\n",
            "Requirement already satisfied: cloudpickle>=1.2.0 in /usr/local/lib/python3.10/dist-packages (from gymnasium) (2.2.1)\n",
            "Requirement already satisfied: typing-extensions>=4.3.0 in /usr/local/lib/python3.10/dist-packages (from gymnasium) (4.10.0)\n",
            "Requirement already satisfied: farama-notifications>=0.0.1 in /usr/local/lib/python3.10/dist-packages (from gymnasium) (0.0.4)\n",
            "Requirement already satisfied: gymnasium[accept-rom-license,atari] in /usr/local/lib/python3.10/dist-packages (0.29.1)\n",
            "Requirement already satisfied: numpy>=1.21.0 in /usr/local/lib/python3.10/dist-packages (from gymnasium[accept-rom-license,atari]) (1.25.2)\n",
            "Requirement already satisfied: cloudpickle>=1.2.0 in /usr/local/lib/python3.10/dist-packages (from gymnasium[accept-rom-license,atari]) (2.2.1)\n",
            "Requirement already satisfied: typing-extensions>=4.3.0 in /usr/local/lib/python3.10/dist-packages (from gymnasium[accept-rom-license,atari]) (4.10.0)\n",
            "Requirement already satisfied: farama-notifications>=0.0.1 in /usr/local/lib/python3.10/dist-packages (from gymnasium[accept-rom-license,atari]) (0.0.4)\n",
            "Requirement already satisfied: autorom[accept-rom-license]~=0.4.2 in /usr/local/lib/python3.10/dist-packages (from gymnasium[accept-rom-license,atari]) (0.4.2)\n",
            "Requirement already satisfied: shimmy[atari]<1.0,>=0.1.0 in /usr/local/lib/python3.10/dist-packages (from gymnasium[accept-rom-license,atari]) (0.2.1)\n",
            "Requirement already satisfied: click in /usr/local/lib/python3.10/dist-packages (from autorom[accept-rom-license]~=0.4.2->gymnasium[accept-rom-license,atari]) (8.1.7)\n",
            "Requirement already satisfied: requests in /usr/local/lib/python3.10/dist-packages (from autorom[accept-rom-license]~=0.4.2->gymnasium[accept-rom-license,atari]) (2.31.0)\n",
            "Requirement already satisfied: tqdm in /usr/local/lib/python3.10/dist-packages (from autorom[accept-rom-license]~=0.4.2->gymnasium[accept-rom-license,atari]) (4.66.2)\n",
            "Requirement already satisfied: AutoROM.accept-rom-license in /usr/local/lib/python3.10/dist-packages (from autorom[accept-rom-license]~=0.4.2->gymnasium[accept-rom-license,atari]) (0.6.1)\n",
            "Requirement already satisfied: ale-py~=0.8.1 in /usr/local/lib/python3.10/dist-packages (from shimmy[atari]<1.0,>=0.1.0->gymnasium[accept-rom-license,atari]) (0.8.1)\n",
            "Requirement already satisfied: importlib-resources in /usr/local/lib/python3.10/dist-packages (from ale-py~=0.8.1->shimmy[atari]<1.0,>=0.1.0->gymnasium[accept-rom-license,atari]) (6.4.0)\n",
            "Requirement already satisfied: charset-normalizer<4,>=2 in /usr/local/lib/python3.10/dist-packages (from requests->autorom[accept-rom-license]~=0.4.2->gymnasium[accept-rom-license,atari]) (3.3.2)\n",
            "Requirement already satisfied: idna<4,>=2.5 in /usr/local/lib/python3.10/dist-packages (from requests->autorom[accept-rom-license]~=0.4.2->gymnasium[accept-rom-license,atari]) (3.6)\n",
            "Requirement already satisfied: urllib3<3,>=1.21.1 in /usr/local/lib/python3.10/dist-packages (from requests->autorom[accept-rom-license]~=0.4.2->gymnasium[accept-rom-license,atari]) (2.0.7)\n",
            "Requirement already satisfied: certifi>=2017.4.17 in /usr/local/lib/python3.10/dist-packages (from requests->autorom[accept-rom-license]~=0.4.2->gymnasium[accept-rom-license,atari]) (2024.2.2)\n",
            "Reading package lists... Done\n",
            "Building dependency tree... Done\n",
            "Reading state information... Done\n",
            "swig is already the newest version (4.0.2-1ubuntu1).\n",
            "0 upgraded, 0 newly installed, 0 to remove and 45 not upgraded.\n",
            "Requirement already satisfied: gymnasium[box2d] in /usr/local/lib/python3.10/dist-packages (0.29.1)\n",
            "Requirement already satisfied: numpy>=1.21.0 in /usr/local/lib/python3.10/dist-packages (from gymnasium[box2d]) (1.25.2)\n",
            "Requirement already satisfied: cloudpickle>=1.2.0 in /usr/local/lib/python3.10/dist-packages (from gymnasium[box2d]) (2.2.1)\n",
            "Requirement already satisfied: typing-extensions>=4.3.0 in /usr/local/lib/python3.10/dist-packages (from gymnasium[box2d]) (4.10.0)\n",
            "Requirement already satisfied: farama-notifications>=0.0.1 in /usr/local/lib/python3.10/dist-packages (from gymnasium[box2d]) (0.0.4)\n",
            "Requirement already satisfied: box2d-py==2.3.5 in /usr/local/lib/python3.10/dist-packages (from gymnasium[box2d]) (2.3.5)\n",
            "Requirement already satisfied: pygame>=2.1.3 in /usr/local/lib/python3.10/dist-packages (from gymnasium[box2d]) (2.5.2)\n",
            "Requirement already satisfied: swig==4.* in /usr/local/lib/python3.10/dist-packages (from gymnasium[box2d]) (4.2.1)\n"
          ]
        }
      ],
      "source": [
        "!pip install gymnasium\n",
        "!pip install \"gymnasium[atari, accept-rom-license]\"\n",
        "!apt-get install -y swig\n",
        "!pip install gymnasium[box2d]"
      ]
    },
    {
      "cell_type": "markdown",
      "metadata": {
        "id": "brqiMN3UW9T9"
      },
      "source": [
        "### Importing the libraries"
      ]
    },
    {
      "cell_type": "code",
      "execution_count": 2,
      "metadata": {
        "id": "mZaKXP_aMl9O"
      },
      "outputs": [],
      "source": [
        "import os\n",
        "import random\n",
        "import numpy as np\n",
        "import torch\n",
        "import torch.nn as nn\n",
        "import torch.optim as optim\n",
        "import torch.nn.functional as F\n",
        "import torch.autograd as autograd\n",
        "from torch.autograd import Variable\n",
        "from collections import deque, namedtuple"
      ]
    },
    {
      "cell_type": "markdown",
      "metadata": {
        "id": "EzlDKXvkXzGI"
      },
      "source": [
        "## Part 1 - Building the AI"
      ]
    },
    {
      "cell_type": "markdown",
      "metadata": {
        "id": "UtG6Zc83YYy3"
      },
      "source": [
        "### Creating the architecture of the Neural Network"
      ]
    },
    {
      "cell_type": "code",
      "source": [
        "class Network(nn.Module):\n",
        "\n",
        "  def __init__(self, state_size, action_size, seed = 42):\n",
        "      super(Network, self).__init__()\n",
        "      self.seed = torch.manual_seed(seed)\n",
        "      self.fc1 = nn.Linear(state_size, 64)\n",
        "      self.fc2 = nn.Linear(64, 64)\n",
        "      self.fc3 = nn.Linear(64, action_size)\n",
        "\n",
        "  def forward(self, state):\n",
        "      x = self.fc1(state)\n",
        "      x = F.relu(x)\n",
        "      x = self.fc2(x)\n",
        "      x = F.relu(x)\n",
        "      return self.fc3(x)"
      ],
      "metadata": {
        "colab": {
          "base_uri": "https://localhost:8080/"
        },
        "id": "mhqun7CXO4sd",
        "outputId": "dd1da361-27c0-46e7-8725-26bf9168780f"
      },
      "execution_count": 10,
      "outputs": [
        {
          "output_type": "stream",
          "name": "stderr",
          "text": [
            "/usr/local/lib/python3.10/dist-packages/ipykernel/ipkernel.py:283: DeprecationWarning: `should_run_async` will not call `transform_cell` automatically in the future. Please pass the result to `transformed_cell` argument and any exception that happen during thetransform in `preprocessing_exc_tuple` in IPython 7.17 and above.\n",
            "  and should_run_async(code)\n"
          ]
        }
      ]
    },
    {
      "cell_type": "markdown",
      "metadata": {
        "id": "UxVrBnFWZKb1"
      },
      "source": [
        "## Part 2 - Training the AI"
      ]
    },
    {
      "cell_type": "markdown",
      "metadata": {
        "id": "T364fz9qZb2j"
      },
      "source": [
        "### Setting up the environment"
      ]
    },
    {
      "cell_type": "code",
      "source": [
        "import gymnasium as gym\n",
        "env = gym.make('LunarLander-v2')\n",
        "state_shape = env.observation_space.shape\n",
        "state_size = env.observation_space.shape[0]\n",
        "number_actions = env.action_space.n\n",
        "print('state shape: ', state_shape)\n",
        "print('state size: ', state_size)\n",
        "print('action num: ', number_actions)"
      ],
      "metadata": {
        "colab": {
          "base_uri": "https://localhost:8080/"
        },
        "id": "Wa1bFHk_Rb5E",
        "outputId": "df221b5c-ebc6-4e0d-b840-06f48eb89727"
      },
      "execution_count": 11,
      "outputs": [
        {
          "output_type": "stream",
          "name": "stdout",
          "text": [
            "state shape:  (8,)\n",
            "state size:  8\n",
            "action num:  4\n"
          ]
        }
      ]
    },
    {
      "cell_type": "markdown",
      "metadata": {
        "id": "c_dZmOIvZgj-"
      },
      "source": [
        "### Initializing the hyperparameters"
      ]
    },
    {
      "cell_type": "code",
      "source": [
        "learning_rate = 5e-4\n",
        "minibatch_size = 100\n",
        "discount_factor = 0.99\n",
        "replay_buffer_size = int(1e5)\n",
        "interpolation_parameter = 1e-3"
      ],
      "metadata": {
        "id": "5elnIHJNTF9B"
      },
      "execution_count": 12,
      "outputs": []
    },
    {
      "cell_type": "markdown",
      "metadata": {
        "id": "8hD_Vs-bYnip"
      },
      "source": [
        "### Implementing Experience Replay"
      ]
    },
    {
      "cell_type": "code",
      "source": [
        "class ReplayMemory(object):\n",
        "\n",
        "  def __init__(self, capacity):\n",
        "      self.device = torch.device(\"cuda:0\" if torch.cuda.is_available() else \"cpu\")\n",
        "      self.capacity = capacity\n",
        "      self.memory = []\n",
        "\n",
        "  def push(self, event):\n",
        "      self.memory.append(event)\n",
        "      if len(self.memory) > self.capacity:\n",
        "        del self.memory[0]\n",
        "  def sample(self, batch_size):\n",
        "      experiences = random.sample(self.memory, k = batch_size)\n",
        "      states = torch.from_numpy(np.vstack([e[0] for e in experiences if e is not None])).float().to(self.device)\n",
        "      actions = torch.from_numpy(np.vstack([e[1] for e in experiences if e is not None])).long().to(self.device)\n",
        "      rewards = torch.from_numpy(np.vstack([e[2] for e in experiences if e is not None])).float().to(self.device)\n",
        "      next_states = torch.from_numpy(np.vstack([e[3] for e in experiences if e is not None])).float().to(self.device)\n",
        "      dones = torch.from_numpy(np.vstack([e[4] for e in experiences if e is not None]).astype(np.uint8)).float().to(self.device)\n",
        "      return states, next_states, actions, rewards, dones"
      ],
      "metadata": {
        "id": "hVJhBHkRT3uH"
      },
      "execution_count": 13,
      "outputs": []
    },
    {
      "cell_type": "markdown",
      "metadata": {
        "id": "JmEkbFbUY6Jt"
      },
      "source": [
        "### Implementing the DQN class"
      ]
    },
    {
      "cell_type": "code",
      "source": [
        "class Agent():\n",
        "\n",
        "  def __init__(self, state_size, action_size):\n",
        "      self.device = torch.device(\"cuda:0\" if torch.cuda.is_available() else \"cpu\")\n",
        "      self.state_size = state_size\n",
        "      self.action_size = action_size\n",
        "      self.local_qnetwork = Network(state_size, action_size).to(self.device)\n",
        "      self.target_qnetwork = Network(state_size, action_size).to(self.device)\n",
        "      self.optimizer = optim.Adam(self.local_qnetwork.parameters(), lr = learning_rate)\n",
        "      self.memory = ReplayMemory(replay_buffer_size)\n",
        "      self.t_step = 0\n",
        "\n",
        "  def step(self, state, action, reward, next_state, done):\n",
        "      self.memory.push((state, action, reward, next_state, done))\n",
        "      self.t_step = (self.t_step + 1) % 4\n",
        "      if self.t_step == 0:\n",
        "        if len(self.memory.memory) > minibatch_size:\n",
        "          experiences = self.memory.sample(100)\n",
        "          self.learn(experiences, discount_factor)\n",
        "\n",
        "  def act(self, state, epsilon = 0.):\n",
        "      state = torch.from_numpy(state).float().unsqueeze(0).to(self.device)\n",
        "      self.local_qnetwork.eval()\n",
        "      with torch.no_grad():\n",
        "        action_values = self.local_qnetwork(state)\n",
        "      self.local_qnetwork.train()\n",
        "      if random.random() > epsilon:\n",
        "        return np.argmax(action_values.cpu().data.numpy())\n",
        "      else:\n",
        "        return random.choice(np.arange(self.action_size))\n",
        "\n",
        "  def learn(self, experiences, discount_factor):\n",
        "      states, next_states, actions, rewards, dones = experiences\n",
        "      next_q_targets = self.target_qnetwork(next_states).detach().max(1)[0].unsqueeze(1)\n",
        "      q_targets = rewards + (discount_factor * next_q_targets * (1 - dones))\n",
        "      q_expected = self.local_qnetwork(states).gather(1, actions)\n",
        "      loss = F.mse_loss(q_expected, q_targets)\n",
        "      self.optimizer.zero_grad()\n",
        "      loss.backward()\n",
        "      self.optimizer.step()\n",
        "      self.soft_update(self.local_qnetwork, self.target_qnetwork, interpolation_parameter)\n",
        "\n",
        "  def soft_update(self, local_model, target_model, interpolation_parameter):\n",
        "      for target_param, local_param in zip(target_model.parameters(), local_model.parameters()):\n",
        "        target_param.data.copy_(interpolation_parameter * local_param.data + (1.0 - interpolation_parameter) * target_param.data)"
      ],
      "metadata": {
        "colab": {
          "base_uri": "https://localhost:8080/"
        },
        "id": "-i-ncZ2rW9mQ",
        "outputId": "f6878e7f-90cc-4d62-dd00-c75ed9234ef6"
      },
      "execution_count": 21,
      "outputs": [
        {
          "output_type": "stream",
          "name": "stderr",
          "text": [
            "/usr/local/lib/python3.10/dist-packages/ipykernel/ipkernel.py:283: DeprecationWarning: `should_run_async` will not call `transform_cell` automatically in the future. Please pass the result to `transformed_cell` argument and any exception that happen during thetransform in `preprocessing_exc_tuple` in IPython 7.17 and above.\n",
            "  and should_run_async(code)\n"
          ]
        }
      ]
    },
    {
      "cell_type": "markdown",
      "metadata": {
        "id": "o1tZElccZmf6"
      },
      "source": [
        "### Initializing the DQN agent"
      ]
    },
    {
      "cell_type": "code",
      "source": [
        "agent = Agent(state_size, number_actions)"
      ],
      "metadata": {
        "id": "tuMmo9YgffAg"
      },
      "execution_count": 22,
      "outputs": []
    },
    {
      "cell_type": "markdown",
      "metadata": {
        "id": "E8v0PtUfaVQp"
      },
      "source": [
        "### Training the DQN agent"
      ]
    },
    {
      "cell_type": "code",
      "source": [
        "number_episodes = 2000\n",
        "max_tsteps_ep = 1500\n",
        "epsilon_start_val = 1.0\n",
        "epsilon_end_val = 0.01\n",
        "epsilon_decay_val = 0.995\n",
        "epsilon = epsilon_start_val\n",
        "scores_100ep = deque(maxlen = 100)\n",
        "\n",
        "for episode in range(1, number_episodes + 1):\n",
        "    state, _ = env.reset()\n",
        "    score = 0\n",
        "    for t in range(0, max_tsteps_ep):\n",
        "      action = agent.act(state, epsilon)\n",
        "      next_state, reward, done, _, _ = env.step(action)\n",
        "      agent.step(state, action, reward, next_state, done)\n",
        "      state = next_state\n",
        "      score += reward\n",
        "      if done:\n",
        "        break\n",
        "    scores_100ep.append(score)\n",
        "    epsilon = max(epsilon_end_val, epsilon_decay_val * epsilon)\n",
        "    print('\\rEpisode {}\\tAverage Score {:.2f}'.format(episode, np.mean(scores_100ep)), end = \"\")\n",
        "    if episode % 100 == 0:\n",
        "      print('\\rEpisode {}\\tAverage Score {:.2f}'.format(episode, np.mean(scores_100ep)))\n",
        "    if np.mean(scores_100ep) >= 270.0:\n",
        "      print('\\nEnvironment solved in {:d} episodes!\\tAverage Score {:.2f}'.format(episode - 100, np.mean(scores_100ep)))\n",
        "      torch.save(agent.local_qnetwork.state_dict(), 'checkpoint.pth')\n",
        "      break"
      ],
      "metadata": {
        "colab": {
          "base_uri": "https://localhost:8080/"
        },
        "id": "dn3eK9oNhEB8",
        "outputId": "01b3e940-1a0b-4a0b-bdc6-ff8b65bcfc61"
      },
      "execution_count": 41,
      "outputs": [
        {
          "output_type": "stream",
          "name": "stdout",
          "text": [
            "Episode 100\tAverage Score -104.85\n",
            "Episode 200\tAverage Score -55.89\n",
            "Episode 300\tAverage Score 64.81\n",
            "Episode 400\tAverage Score 177.75\n",
            "Episode 500\tAverage Score 239.49\n",
            "Episode 600\tAverage Score 257.49\n",
            "Episode 700\tAverage Score 253.05\n",
            "Episode 800\tAverage Score 247.67\n",
            "Episode 900\tAverage Score 257.47\n",
            "Episode 1000\tAverage Score 264.42\n",
            "Episode 1100\tAverage Score 265.55\n",
            "Episode 1200\tAverage Score 267.08\n",
            "Episode 1207\tAverage Score 270.43\n",
            "Environment solved in 1107 episodes!\tAverage Score 270.43\n"
          ]
        }
      ]
    },
    {
      "cell_type": "markdown",
      "metadata": {
        "id": "O8CNwdOTcCoP"
      },
      "source": [
        "## Part 3 - Visualizing the results"
      ]
    },
    {
      "cell_type": "code",
      "execution_count": 49,
      "metadata": {
        "id": "cb9nVvU2Okhk",
        "outputId": "1e076b92-9e26-4aa8-aa5f-576c3de67371",
        "colab": {
          "base_uri": "https://localhost:8080/",
          "height": 459
        }
      },
      "outputs": [
        {
          "output_type": "stream",
          "name": "stderr",
          "text": [
            "WARNING:imageio_ffmpeg:IMAGEIO FFMPEG_WRITER WARNING: input image is not divisible by macro_block_size=16, resizing from (600, 400) to (608, 400) to ensure video compatibility with most codecs and players. To prevent resizing, make your input image divisible by the macro_block_size or set the macro_block_size to 1 (risking incompatibility).\n"
          ]
        },
        {
          "output_type": "display_data",
          "data": {
            "text/plain": [
              "<IPython.core.display.HTML object>"
            ],
            "text/html": [
              "<video alt=\"test\" autoplay\n",
              "                loop controls style=\"height: 400px;\">\n",
              "                <source src=\"data:video/mp4;base64,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\" type=\"video/mp4\" />\n",
              "             </video>"
            ]
          },
          "metadata": {}
        }
      ],
      "source": [
        "import glob\n",
        "import io\n",
        "import base64\n",
        "import imageio\n",
        "from IPython.display import HTML, display\n",
        "from gym.wrappers.monitoring.video_recorder import VideoRecorder\n",
        "\n",
        "def show_video_of_model(agent, env_name):\n",
        "    env = gym.make(env_name, render_mode='rgb_array')\n",
        "    state, _ = env.reset()\n",
        "    done = False\n",
        "    frames = []\n",
        "    while not done:\n",
        "        frame = env.render()\n",
        "        frames.append(frame)\n",
        "        action = agent.act(state)\n",
        "        state, reward, done, _, _ = env.step(action.item())\n",
        "    env.close()\n",
        "    imageio.mimsave('video.mp4', frames, fps=30)\n",
        "\n",
        "show_video_of_model(agent, 'LunarLander-v2')\n",
        "\n",
        "def show_video():\n",
        "    mp4list = glob.glob('*.mp4')\n",
        "    if len(mp4list) > 0:\n",
        "        mp4 = mp4list[0]\n",
        "        video = io.open(mp4, 'r+b').read()\n",
        "        encoded = base64.b64encode(video)\n",
        "        display(HTML(data='''<video alt=\"test\" autoplay\n",
        "                loop controls style=\"height: 400px;\">\n",
        "                <source src=\"data:video/mp4;base64,{0}\" type=\"video/mp4\" />\n",
        "             </video>'''.format(encoded.decode('ascii'))))\n",
        "    else:\n",
        "        print(\"Could not find video\")\n",
        "\n",
        "show_video()"
      ]
    }
  ],
  "metadata": {
    "colab": {
      "provenance": [],
      "include_colab_link": true
    },
    "kernelspec": {
      "display_name": "Python 3",
      "name": "python3"
    },
    "language_info": {
      "name": "python"
    }
  },
  "nbformat": 4,
  "nbformat_minor": 0
}